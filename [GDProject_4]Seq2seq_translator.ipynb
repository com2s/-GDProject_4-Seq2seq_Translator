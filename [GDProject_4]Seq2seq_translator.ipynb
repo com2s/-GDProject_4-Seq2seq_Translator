{
  "cells": [
    {
      "cell_type": "markdown",
      "metadata": {
        "id": "zIZM0VZIOno3"
      },
      "source": [
        "# 목차\n",
        "\n",
        "* 평가문항\n",
        "* 프로젝트:한영 번역기 만들기\n",
        "* Step 1. 데이터 다운로드\n",
        "* Step 2. 데이터 정제\n",
        "* Step 3. 데이터 토큰화\n",
        "* Step 4. 모델 설계\n",
        "* Step 5. 훈련하기\n",
        "* 회고\n",
        "* Reference"
      ]
    },
    {
      "cell_type": "markdown",
      "metadata": {
        "id": "kitx5uJUOncK"
      },
      "source": [
        "# 평가문항\n",
        "\n",
        "루브릭\n",
        "\n",
        "아래의 기준을 바탕으로 프로젝트를 평가합니다.\n",
        "\n",
        "평가문항\t상세기준\n",
        "\n",
        "1. 번역기 모델 학습에 필요한 텍스트 데이터 전처리가 한국어 포함하여 잘 이루어졌다.\n",
        "\n",
        "> 구두점, 대소문자, 띄어쓰기, 한글 형태소분석 등 번역기 모델에 요구되는 전처리가 정상적으로 진행되었다.\n",
        "\n",
        "2. Attentional Seq2seq 모델이 정상적으로 구동된다.\n",
        "\n",
        "> seq2seq 모델 훈련 과정에서 training loss가 안정적으로 떨어지면서 학습이 진행됨이 확인되었다.\n",
        "\n",
        "3. 테스트 결과 의미가 통하는 수준의 번역문이 생성되었다.\n",
        "\n",
        "> 테스트용 디코더 모델이 정상적으로 만들어져서, 정답과 어느 정도 유사한 영어 번역이 진행됨을 확인하였다."
      ]
    },
    {
      "cell_type": "markdown",
      "metadata": {
        "id": "i6BkM502OnZx"
      },
      "source": [
        "# 프로젝트: 한영 번역기 만들기"
      ]
    },
    {
      "cell_type": "markdown",
      "metadata": {
        "id": "7c2o3RGFSTEZ"
      },
      "source": [
        "## 라이브러리 불러오기"
      ]
    },
    {
      "cell_type": "code",
      "execution_count": null,
      "metadata": {
        "id": "dOs7yPZrUXr0"
      },
      "outputs": [],
      "source": [
        "import tensorflow as tf\n",
        "import numpy as np\n",
        "\n",
        "from sklearn.model_selection import train_test_split\n",
        "\n",
        "import matplotlib.ticker as ticker\n",
        "import matplotlib.pyplot as plt\n",
        "\n",
        "import time\n",
        "import re\n",
        "import os\n",
        "import io"
      ]
    },
    {
      "cell_type": "code",
      "execution_count": null,
      "metadata": {
        "id": "VeUKP56E_lj3"
      },
      "outputs": [],
      "source": [
        "from konlpy.tag import Mecab"
      ]
    },
    {
      "cell_type": "code",
      "execution_count": null,
      "metadata": {
        "colab": {
          "base_uri": "https://localhost:8080/"
        },
        "id": "3Ql3kJvfU_mO",
        "outputId": "57a03a54-6ba4-4a11-d9b1-29c14c6ec3b6"
      },
      "outputs": [
        {
          "name": "stdout",
          "output_type": "stream",
          "text": [
            "Reading package lists... Done\n",
            "Building dependency tree       \n",
            "Reading state information... Done\n",
            "fonts-nanum is already the newest version (20180306-3).\n",
            "The following packages were automatically installed and are no longer required:\n",
            "  accountsservice-ubuntu-schemas bc bluez-obexd cups cups-browsed cups-client\n",
            "  cups-common cups-core-drivers cups-daemon cups-filters\n",
            "  cups-filters-core-drivers cups-ipp-utils cups-ppdc cups-server-common\n",
            "  fonts-droid-fallback fonts-noto-mono fonts-urw-base35 ghostscript\n",
            "  gir1.2-dbusmenu-glib-0.4 gnome-bluetooth gnome-power-manager\n",
            "  gnome-screensaver gsettings-ubuntu-schemas gvfs-backends indicator-applet\n",
            "  indicator-application indicator-appmenu indicator-bluetooth indicator-common\n",
            "  indicator-datetime indicator-keyboard indicator-messages indicator-power\n",
            "  indicator-printers indicator-session indicator-sound jayatana\n",
            "  libaccounts-glib0 libbamf3-2 libcdio-cdda2 libcdio-paranoia2 libcdio18\n",
            "  libcupsfilters1 libfcitx-config4 libfcitx-gclient1 libfcitx-utils0\n",
            "  libfontembed1 libgnome-panel0 libgs9 libgs9-common libido3-0.1-0 libijs-0.35\n",
            "  libindicator3-7 libjbig2dec0 liblightdm-gobject-1-0 liblouis-data liblouis20\n",
            "  liblouisutdml-bin liblouisutdml-data liblouisutdml9 libmessaging-menu0\n",
            "  libmtp-common libmtp-runtime libmtp9 libnfs13 libpaper-utils libpaper1\n",
            "  libpoppler-cpp0v5 libqpdf26 libunity-gtk2-parser0 libunity-gtk3-parser0\n",
            "  libunity-settings-daemon1 liburl-dispatcher1 lightdm nautilus-data\n",
            "  poppler-utils python3-psutil python3-xdg ssl-cert ubuntu-touch-sounds\n",
            "  unity-greeter unity-gtk-module-common unity-gtk2-module unity-gtk3-module\n",
            "  unity-settings-daemon unity-settings-daemon-schemas\n",
            "Use 'sudo apt autoremove' to remove them.\n",
            "0 upgraded, 0 newly installed, 0 to remove and 0 not upgraded.\n",
            "/usr/share/fonts: caching, new cache contents: 0 fonts, 6 dirs\n",
            "/usr/share/fonts/X11: caching, new cache contents: 0 fonts, 4 dirs\n",
            "/usr/share/fonts/X11/Type1: caching, new cache contents: 8 fonts, 0 dirs\n",
            "/usr/share/fonts/X11/encodings: caching, new cache contents: 0 fonts, 1 dirs\n",
            "/usr/share/fonts/X11/encodings/large: caching, new cache contents: 0 fonts, 0 dirs\n",
            "/usr/share/fonts/X11/misc: caching, new cache contents: 89 fonts, 0 dirs\n",
            "/usr/share/fonts/X11/util: caching, new cache contents: 0 fonts, 0 dirs\n",
            "/usr/share/fonts/cMap: caching, new cache contents: 0 fonts, 0 dirs\n",
            "/usr/share/fonts/cmap: caching, new cache contents: 0 fonts, 5 dirs\n",
            "/usr/share/fonts/cmap/adobe-cns1: caching, new cache contents: 0 fonts, 0 dirs\n",
            "/usr/share/fonts/cmap/adobe-gb1: caching, new cache contents: 0 fonts, 0 dirs\n",
            "/usr/share/fonts/cmap/adobe-japan1: caching, new cache contents: 0 fonts, 0 dirs\n",
            "/usr/share/fonts/cmap/adobe-japan2: caching, new cache contents: 0 fonts, 0 dirs\n",
            "/usr/share/fonts/cmap/adobe-korea1: caching, new cache contents: 0 fonts, 0 dirs\n",
            "/usr/share/fonts/opentype: caching, new cache contents: 0 fonts, 1 dirs\n",
            "/usr/share/fonts/opentype/urw-base35: caching, new cache contents: 35 fonts, 0 dirs\n",
            "/usr/share/fonts/truetype: caching, new cache contents: 0 fonts, 7 dirs\n",
            "/usr/share/fonts/truetype/dejavu: caching, new cache contents: 22 fonts, 0 dirs\n",
            "/usr/share/fonts/truetype/droid: caching, new cache contents: 1 fonts, 0 dirs\n",
            "/usr/share/fonts/truetype/liberation: caching, new cache contents: 16 fonts, 0 dirs\n",
            "/usr/share/fonts/truetype/nanum: caching, new cache contents: 10 fonts, 0 dirs\n",
            "/usr/share/fonts/truetype/noto: caching, new cache contents: 1 fonts, 0 dirs\n",
            "/usr/share/fonts/truetype/quicksand: caching, new cache contents: 4 fonts, 0 dirs\n",
            "/usr/share/fonts/truetype/ubuntu: caching, new cache contents: 14 fonts, 0 dirs\n",
            "/usr/share/fonts/type1: caching, new cache contents: 0 fonts, 1 dirs\n",
            "/usr/share/fonts/type1/urw-base35: caching, new cache contents: 35 fonts, 0 dirs\n",
            "/usr/local/share/fonts: caching, new cache contents: 0 fonts, 0 dirs\n",
            "/root/.local/share/fonts: skipping, no such directory\n",
            "/root/.fonts: skipping, no such directory\n",
            "/usr/share/fonts/X11: skipping, looped directory detected\n",
            "/usr/share/fonts/cMap: skipping, looped directory detected\n",
            "/usr/share/fonts/cmap: skipping, looped directory detected\n",
            "/usr/share/fonts/opentype: skipping, looped directory detected\n",
            "/usr/share/fonts/truetype: skipping, looped directory detected\n",
            "/usr/share/fonts/type1: skipping, looped directory detected\n",
            "/usr/share/fonts/X11/Type1: skipping, looped directory detected\n",
            "/usr/share/fonts/X11/encodings: skipping, looped directory detected\n",
            "/usr/share/fonts/X11/misc: skipping, looped directory detected\n",
            "/usr/share/fonts/X11/util: skipping, looped directory detected\n",
            "/usr/share/fonts/cmap/adobe-cns1: skipping, looped directory detected\n",
            "/usr/share/fonts/cmap/adobe-gb1: skipping, looped directory detected\n",
            "/usr/share/fonts/cmap/adobe-japan1: skipping, looped directory detected\n",
            "/usr/share/fonts/cmap/adobe-japan2: skipping, looped directory detected\n",
            "/usr/share/fonts/cmap/adobe-korea1: skipping, looped directory detected\n",
            "/usr/share/fonts/opentype/urw-base35: skipping, looped directory detected\n",
            "/usr/share/fonts/truetype/dejavu: skipping, looped directory detected\n",
            "/usr/share/fonts/truetype/droid: skipping, looped directory detected\n",
            "/usr/share/fonts/truetype/liberation: skipping, looped directory detected\n",
            "/usr/share/fonts/truetype/nanum: skipping, looped directory detected\n",
            "/usr/share/fonts/truetype/noto: skipping, looped directory detected\n",
            "/usr/share/fonts/truetype/quicksand: skipping, looped directory detected\n",
            "/usr/share/fonts/truetype/ubuntu: skipping, looped directory detected\n",
            "/usr/share/fonts/type1/urw-base35: skipping, looped directory detected\n",
            "/usr/share/fonts/X11/encodings/large: skipping, looped directory detected\n",
            "/var/cache/fontconfig: cleaning cache directory\n",
            "/root/.cache/fontconfig: not cleaning non-existent cache directory\n",
            "/root/.fontconfig: not cleaning non-existent cache directory\n",
            "fc-cache: succeeded\n"
          ]
        }
      ],
      "source": [
        "# 코랩에서 한글 나눔체를 다운로드 받는 코드\n",
        "\n",
        "!sudo apt-get install -y fonts-nanum\n",
        "!sudo fc-cache -fv\n",
        "!rm ~/.cache/matplotlib -rf"
      ]
    },
    {
      "cell_type": "code",
      "execution_count": null,
      "metadata": {
        "colab": {
          "base_uri": "https://localhost:8080/"
        },
        "id": "mpMT0XjIUXRW",
        "outputId": "3e0b5dd4-695e-4c78-9a03-d5a8b4157e61"
      },
      "outputs": [
        {
          "name": "stdout",
          "output_type": "stream",
          "text": [
            "완료!\n"
          ]
        }
      ],
      "source": [
        "# 한글 폰트를 사용하기 위한 코드\n",
        "\n",
        "import matplotlib as mpl\n",
        "import matplotlib.pyplot as plt\n",
        " \n",
        "%config InlineBackend.figure_format = 'retina'\n",
        " \n",
        "import matplotlib.font_manager as fm\n",
        "fontpath = '/usr/share/fonts/truetype/nanum/NanumBarunGothic.ttf'\n",
        "font = fm.FontProperties(fname=fontpath, size=9)\n",
        "plt.rc('font', family='NanumBarunGothic') \n",
        "mpl.font_manager.findfont(font)\n",
        "\n",
        "print(\"완료!\")"
      ]
    },
    {
      "cell_type": "markdown",
      "metadata": {
        "id": "hdN9S04OSV7c"
      },
      "source": [
        "# Step 1. 데이터 다운로드\n",
        "\n",
        "아래 링크에서 korean-english-park.train.tar.gz 를 다운로드받아 한영 병렬 데이터를 확보합니다.\n",
        "\n",
        "* [jungyeul/korean-parallel-corpora](https://github.com/jungyeul/korean-parallel-corpora/tree/master/korean-english-news-v1)"
      ]
    },
    {
      "cell_type": "code",
      "execution_count": null,
      "metadata": {
        "colab": {
          "base_uri": "https://localhost:8080/"
        },
        "id": "hK7JqScfSnqr",
        "outputId": "0a8db6ce-c63e-4bce-c6fa-2249d96f56cb"
      },
      "outputs": [
        {
          "name": "stdout",
          "output_type": "stream",
          "text": [
            "korean-english-park.train.en\n",
            "korean-english-park.train.ko\n"
          ]
        }
      ],
      "source": [
        "! tar -zxvf ~/aiffel/s2s_translation/korean-english-park.train.tar.gz"
      ]
    },
    {
      "cell_type": "markdown",
      "metadata": {
        "id": "3BVMye5haZXq"
      },
      "source": [
        "## 데이터 불러오기"
      ]
    },
    {
      "cell_type": "code",
      "execution_count": null,
      "metadata": {
        "id": "e4dTDVrHOfQd"
      },
      "outputs": [],
      "source": [
        "path_train_ko = os.getenv('HOME') + '/aiffel/s2s_translation/korean-english-park.train.ko'\n",
        "path_train_en = os.getenv('HOME') + '/aiffel/s2s_translation/korean-english-park.train.en'\n"
      ]
    },
    {
      "cell_type": "code",
      "execution_count": null,
      "metadata": {
        "colab": {
          "base_uri": "https://localhost:8080/"
        },
        "id": "DHTDomwrW_vv",
        "outputId": "1c78ea5c-2c2a-4b1a-e0f9-2c2a46a5e623"
      },
      "outputs": [
        {
          "name": "stdout",
          "output_type": "stream",
          "text": [
            "Data Size: 94123\n",
            "Example:\n",
            ">> 개인용 컴퓨터 사용의 상당 부분은 \"이것보다 뛰어날 수 있느냐?\"\n",
            ">> 북한의 핵무기 계획을 포기하도록 하려는 압력이 거세지고 있는 가운데, 일본과 북한의 외교관들이 외교 관계를 정상화하려는 회담을 재개했다.\n",
            ">> \"경호 로보트가 침입자나 화재를 탐지하기 위해서 개인적으로, 그리고 전문적으로 사용되고 있습니다.\"\n",
            ">> 수자원부 당국은 논란이 되고 있고, 막대한 비용이 드는 이 사업에 대해 내년에 건설을 시작할 계획이다.\n",
            ">> 또한 근력 운동은 활발하게 걷는 것이나 최소한 20분 동안 뛰는 것과 같은 유산소 활동에서 얻는 운동 효과를 심장과 폐에 주지 않기 때문에, 연구학자들은 근력 운동이 심장에 큰 영향을 미치는지 여부에 대해 논쟁을 해왔다.\n"
          ]
        }
      ],
      "source": [
        "with open(path_train_ko, \"r\") as f:\n",
        "    raw = f.read().splitlines()\n",
        "\n",
        "print(\"Data Size:\", len(raw))\n",
        "print(\"Example:\")\n",
        "\n",
        "for sen in raw[0:100][::20]: print(\">>\", sen)"
      ]
    },
    {
      "cell_type": "code",
      "execution_count": null,
      "metadata": {
        "colab": {
          "base_uri": "https://localhost:8080/"
        },
        "id": "8bK9z6bVehVi",
        "outputId": "f716f03a-f5d1-42e5-b765-72869e4f3d30"
      },
      "outputs": [
        {
          "name": "stdout",
          "output_type": "stream",
          "text": [
            "['개인용 컴퓨터 사용의 상당 부분은 \"이것보다 뛰어날 수 있느냐?\"', '북한의 핵무기 계획을 포기하도록 하려는 압력이 거세지고 있는 가운데, 일본과 북한의 외교관들이 외교 관계를 정상화하려는 회담을 재개했다.', '\"경호 로보트가 침입자나 화재를 탐지하기 위해서 개인적으로, 그리고 전문적으로 사용되고 있습니다.\"', '수자원부 당국은 논란이 되고 있고, 막대한 비용이 드는 이 사업에 대해 내년에 건설을 시작할 계획이다.', '또한 근력 운동은 활발하게 걷는 것이나 최소한 20분 동안 뛰는 것과 같은 유산소 활동에서 얻는 운동 효과를 심장과 폐에 주지 않기 때문에, 연구학자들은 근력 운동이 심장에 큰 영향을 미치는지 여부에 대해 논쟁을 해왔다.']\n"
          ]
        }
      ],
      "source": [
        "train_kr = raw[:]\n",
        "print(train_kr[:100:20])"
      ]
    },
    {
      "cell_type": "code",
      "execution_count": null,
      "metadata": {
        "colab": {
          "base_uri": "https://localhost:8080/"
        },
        "id": "WOIKt8L-aR23",
        "outputId": "88aa26f2-5019-4392-af02-2f242c411126"
      },
      "outputs": [
        {
          "name": "stdout",
          "output_type": "stream",
          "text": [
            "Data Size: 94123\n",
            "Example:\n",
            ">> Much of personal computing is about \"can you top this?\"\n",
            ">> Amid mounting pressure on North Korea to abandon its nuclear weapons program Japanese and North Korean diplomats have resumed talks on normalizing diplomatic relations.\n",
            ">> “Guard robots are used privately and professionally to detect intruders or fire,” Karlsson said.\n",
            ">> Authorities from the Water Resources Ministry plan to begin construction next year on the controversial and hugely expensive project.\n",
            ">> Researchers also have debated whether weight-training has a big impact on the heart, since it does not give the heart and lungs the kind of workout they get from aerobic activities such as brisk walking or running for at least 20 minutes.\n"
          ]
        }
      ],
      "source": [
        "with open(path_train_en, \"r\") as f:\n",
        "    raw = f.read().splitlines()\n",
        "\n",
        "print(\"Data Size:\", len(raw))\n",
        "print(\"Example:\")\n",
        "\n",
        "for sen in raw[0:100][::20]: print(\">>\", sen)"
      ]
    },
    {
      "cell_type": "code",
      "execution_count": null,
      "metadata": {
        "colab": {
          "base_uri": "https://localhost:8080/"
        },
        "id": "HrxUbr50e5i-",
        "outputId": "390f4bf7-900b-4aea-c9ba-b7a4df1446bc"
      },
      "outputs": [
        {
          "name": "stdout",
          "output_type": "stream",
          "text": [
            "['Much of personal computing is about \"can you top this?\"', 'Amid mounting pressure on North Korea to abandon its nuclear weapons program Japanese and North Korean diplomats have resumed talks on normalizing diplomatic relations.', '“Guard robots are used privately and professionally to detect intruders or fire,” Karlsson said.', 'Authorities from the Water Resources Ministry plan to begin construction next year on the controversial and hugely expensive project.', 'Researchers also have debated whether weight-training has a big impact on the heart, since it does not give the heart and lungs the kind of workout they get from aerobic activities such as brisk walking or running for at least 20 minutes.']\n"
          ]
        }
      ],
      "source": [
        "train_en = raw[:]\n",
        "print(train_en[:100:20])"
      ]
    },
    {
      "cell_type": "code",
      "execution_count": null,
      "metadata": {
        "colab": {
          "base_uri": "https://localhost:8080/"
        },
        "id": "qIEktSJLfXhu",
        "outputId": "7022679f-311e-4c61-f233-1cc23022c84d"
      },
      "outputs": [
        {
          "name": "stdout",
          "output_type": "stream",
          "text": [
            "('개인용 컴퓨터 사용의 상당 부분은 \"이것보다 뛰어날 수 있느냐?\"', 'Much of personal computing is about \"can you top this?\"')\n"
          ]
        }
      ],
      "source": [
        "# 한국어 문장과 영어 문장을 연결해준다.\n",
        "\n",
        "corpus = []\n",
        "for i in range(len(train_kr)):\n",
        "  pair = (train_kr[i], train_en[i]) # 두 문장을 리스트가 아닌 튜플로 묶는다.\n",
        "  corpus.append(pair)               # 이후 set()에 corpus를 넣어주기 위함.\n",
        "\n",
        "print(corpus[0])"
      ]
    },
    {
      "cell_type": "markdown",
      "metadata": {
        "id": "rf-ZZXwdSliJ"
      },
      "source": [
        "# Step 2. 데이터 정제\n",
        "\n",
        "모든 데이터를 사용할 경우 학습에 굉장히 오랜 시간이 걸립니다. cleaned_corpus로부터 토큰의 길이가 40 이하인 데이터를 선별하여 eng_corpus와 kor_corpus를 각각 구축하세요."
      ]
    },
    {
      "cell_type": "markdown",
      "metadata": {
        "id": "TL6WFX08eIRj"
      },
      "source": [
        "## 중복된 값 제거\n",
        "\n",
        "set() 의 특성을 이용해 중복된 값을 제거한다."
      ]
    },
    {
      "cell_type": "code",
      "execution_count": null,
      "metadata": {
        "id": "K0F9ibIbqGWy"
      },
      "outputs": [],
      "source": [
        "cleaned_corpus = set(corpus)"
      ]
    },
    {
      "cell_type": "code",
      "execution_count": null,
      "metadata": {
        "colab": {
          "base_uri": "https://localhost:8080/"
        },
        "id": "QFrXI_Qycixo",
        "outputId": "9b6a72ba-e28a-4872-b506-6c440a71973e"
      },
      "outputs": [
        {
          "name": "stdout",
          "output_type": "stream",
          "text": [
            "처음 주어진 학습 데이터의 수: 94123\n",
            "중복을 제거한 후 학습 데이터의 수: 78968\n"
          ]
        }
      ],
      "source": [
        "print(\"처음 주어진 학습 데이터의 수:\",len(corpus))\n",
        "print(\"중복을 제거한 후 학습 데이터의 수:\",len(cleaned_corpus))"
      ]
    },
    {
      "cell_type": "code",
      "execution_count": null,
      "metadata": {
        "colab": {
          "base_uri": "https://localhost:8080/"
        },
        "id": "mpNGSPDmcivp",
        "outputId": "bcfcfa84-0e7c-4b8e-de72-71f53055a607"
      },
      "outputs": [
        {
          "name": "stdout",
          "output_type": "stream",
          "text": [
            "Ben Bernanke 밴 버냉키, 미 연방준비위원회 위원장\n",
            "Fed chairman Ben Bernanke is telling Congress today it needs to act to help absorb some of the shock.\n"
          ]
        }
      ],
      "source": [
        "cleaned_corpus = list(cleaned_corpus)\n",
        "print(cleaned_corpus[1][0])\n",
        "print(cleaned_corpus[1][1])"
      ]
    },
    {
      "cell_type": "markdown",
      "metadata": {
        "id": "rdTFqE7u_Vtb"
      },
      "source": [
        "## 데이터 전처리"
      ]
    },
    {
      "cell_type": "code",
      "execution_count": null,
      "metadata": {
        "id": "2XAID6Y4AKz4"
      },
      "outputs": [],
      "source": [
        "mecab = Mecab()"
      ]
    },
    {
      "cell_type": "code",
      "execution_count": null,
      "metadata": {
        "id": "1V01DJcScit2"
      },
      "outputs": [],
      "source": [
        "# 전처리 함수\n",
        "def preprocess_sentence(sentence, ko=False, en=False):\n",
        "  sentence = sentence.lower().strip()\n",
        "\n",
        "  # 단어와 구두점(punctuation) 사이의 거리를 만듭니다.\n",
        "  # 예를 들어서 \"I am a student.\" => \"I am a student .\"와 같이\n",
        "  # student와 온점 사이에 거리를 만듭니다.\n",
        "  sentence = re.sub(r\"([?.!,])\", r\" \\1 \", sentence)\n",
        "  sentence = re.sub(r'[\" \"]+', \" \", sentence)\n",
        "\n",
        "  # (한글, 알파벳, 숫자 \".\", \"?\", \"!\", \",\")를 제외한 모든 문자를 공백으로 대체합니다.\n",
        "  sentence = re.sub(r\"[^가-힣a-zA-Z0-9?.!,]+\", \" \", sentence)\n",
        "  sentence = sentence.strip()\n",
        "\n",
        "  # 토큰화\n",
        "  if ko:\n",
        "    sentence = mecab.morphs(sentence) # 한글\n",
        "        \n",
        "  if en:\n",
        "    sentence = sentence.split()      # 영문\n",
        "\n",
        "  # 문장의 양 끝에 시작 토큰과 종료 토큰 삽입\n",
        "  if en:\n",
        "    sentence.insert(0,'<start> ')\n",
        "    sentence.append(' <end>')\n",
        "\n",
        "  return sentence"
      ]
    },
    {
      "cell_type": "markdown",
      "source": [
        "위 함수에서 디코더에 해당하는 부분에만 시작, 종료 토큰을 넣는다.\n",
        "\n",
        "아래에서는 데이터의 길이로 나누어 너무 긴 데이터는 제외한다."
      ],
      "metadata": {
        "id": "At00ScjuA1yj"
      }
    },
    {
      "cell_type": "code",
      "execution_count": null,
      "metadata": {
        "id": "39Y2V0hpcir6"
      },
      "outputs": [],
      "source": [
        "# 전처리 적용\n",
        "# 문장의 길이가 40 이하인 데이터만 선별\n",
        "\n",
        "kor_corpus=[]\n",
        "eng_corpus=[]\n",
        "\n",
        "for i in range(len(cleaned_corpus)):\n",
        "    if (len(cleaned_corpus[i][0]) < 41 and len(cleaned_corpus[i][1].split()) < 41):\n",
        "        kor_corpus.append(preprocess_sentence(cleaned_corpus[i][0], ko=True))\n",
        "\n",
        "        eng_corpus.append(preprocess_sentence(cleaned_corpus[i][1], en=True))"
      ]
    },
    {
      "cell_type": "code",
      "execution_count": null,
      "metadata": {
        "id": "izffVQ4RAKz5",
        "outputId": "e48e5f03-fcb9-4f0e-dcdd-3c5805dd2172"
      },
      "outputs": [
        {
          "name": "stdout",
          "output_type": "stream",
          "text": [
            "15897 ['보험', '사', '들', '은', '보험', '적용', '범위', '에', '대해', '일관', '된', '기준', '을', '갖', '고', '있', '지', '않', '다', '.']\n"
          ]
        }
      ],
      "source": [
        "print(len(kor_corpus), kor_corpus[1])"
      ]
    },
    {
      "cell_type": "code",
      "execution_count": null,
      "metadata": {
        "id": "xbJuXoVcAKz5",
        "outputId": "bf723ba6-34cb-4319-bc0c-4503ca4aff9e"
      },
      "outputs": [
        {
          "name": "stdout",
          "output_type": "stream",
          "text": [
            "15897 ['<start> ', 'insurers', 'have', 'no', 'consistent', 'standards', 'on', 'coverage', '.', ' <end>']\n"
          ]
        }
      ],
      "source": [
        "print(len(eng_corpus), eng_corpus[1])"
      ]
    },
    {
      "cell_type": "markdown",
      "metadata": {
        "id": "K1lLSbP5cij7"
      },
      "source": [
        "# Step 3. 데이터 토큰화\n",
        "\n",
        "앞서 정의한 tokenize() 함수를 사용해 데이터를 텐서로 변환하고 각각의 tokenizer를 얻으세요! 단어의 수는 실험을 통해 적당한 값을 맞춰주도록 합니다! (최소 10,000 이상!)\n",
        "\n",
        "❗ 주의: 난이도에 비해 데이터가 많지 않아 훈련 데이터와 검증 데이터를 따로 나누지는 않습니다."
      ]
    },
    {
      "cell_type": "code",
      "execution_count": null,
      "metadata": {
        "id": "r8e2QLhmcihE"
      },
      "outputs": [],
      "source": [
        "def tokenize(corpus):\n",
        "    tokenizer = tf.keras.preprocessing.text.Tokenizer(num_words=10000, oov_token='', filters='')\n",
        "    tokenizer.fit_on_texts(corpus)\n",
        "\n",
        "    tensor = tokenizer.texts_to_sequences(corpus)\n",
        "\n",
        "    tensor = tf.keras.preprocessing.sequence.pad_sequences(tensor, padding='post')\n",
        "\n",
        "    return tensor, tokenizer"
      ]
    },
    {
      "cell_type": "markdown",
      "source": [
        "단어의 수 1만개로 두고 사용"
      ],
      "metadata": {
        "id": "Ot9DUik2BG41"
      }
    },
    {
      "cell_type": "code",
      "execution_count": null,
      "metadata": {
        "id": "rSeMvahncib5"
      },
      "outputs": [],
      "source": [
        "# 토큰화하기\n",
        "enc_tensor, enc_tokenizer = tokenize(kor_corpus)\n",
        "dec_tensor, dec_tokenizer = tokenize(eng_corpus)"
      ]
    },
    {
      "cell_type": "code",
      "execution_count": null,
      "metadata": {
        "id": "oygTBTSsciZc",
        "outputId": "b56469e7-1a5e-47f4-a30b-e1245645f2e6"
      },
      "outputs": [
        {
          "name": "stdout",
          "output_type": "stream",
          "text": [
            "Korean Vocab Size: 17619\n",
            "English Vocab Size: 17307\n"
          ]
        }
      ],
      "source": [
        "print(\"Korean Vocab Size:\", len(enc_tokenizer.index_word))\n",
        "print(\"English Vocab Size:\", len(dec_tokenizer.index_word))"
      ]
    },
    {
      "cell_type": "code",
      "execution_count": null,
      "metadata": {
        "id": "0AqnW58vciHP",
        "outputId": "580c0fe2-0636-4e96-e66b-11f4878da244"
      },
      "outputs": [
        {
          "name": "stdout",
          "output_type": "stream",
          "text": [
            "(15897, 25) (15897, 52)\n"
          ]
        }
      ],
      "source": [
        "print(enc_tensor.shape, dec_tensor.shape)"
      ]
    },
    {
      "cell_type": "code",
      "execution_count": null,
      "metadata": {
        "id": "ie6oxl4VAKz6",
        "outputId": "6fd2fb73-d5e8-4e05-d3e4-dddbabb1b41e"
      },
      "outputs": [
        {
          "data": {
            "text/plain": [
              "array([[8883, 6074, 3940, ...,    0,    0,    0],\n",
              "       [2651,  278,   15, ...,    0,    0,    0],\n",
              "       [1214,    8, 1041, ...,    0,    0,    0],\n",
              "       ...,\n",
              "       [  69,  111,   62, ...,    0,    0,    0],\n",
              "       [  95, 1870, 8547, ...,    0,    0,    0],\n",
              "       [  54,    2, 2596, ...,    0,    0,    0]], dtype=int32)"
            ]
          },
          "execution_count": 185,
          "metadata": {},
          "output_type": "execute_result"
        }
      ],
      "source": [
        "enc_tensor"
      ]
    },
    {
      "cell_type": "code",
      "execution_count": null,
      "metadata": {
        "id": "5C4JFPhXAKz6",
        "outputId": "a24bdf7c-3e25-4481-a56e-3712e310a732"
      },
      "outputs": [
        {
          "data": {
            "text/plain": [
              "array([[   2, 1814, 1063, ...,    0,    0,    0],\n",
              "       [   2, 9394,   26, ...,    0,    0,    0],\n",
              "       [   2,   44,  223, ...,    0,    0,    0],\n",
              "       ...,\n",
              "       [   2,   85,    5, ...,    0,    0,    0],\n",
              "       [   2,  280,    5, ...,    0,    0,    0],\n",
              "       [   2,  116,    4, ...,    0,    0,    0]], dtype=int32)"
            ]
          },
          "execution_count": 186,
          "metadata": {},
          "output_type": "execute_result"
        }
      ],
      "source": [
        "dec_tensor"
      ]
    },
    {
      "cell_type": "markdown",
      "metadata": {
        "id": "7uxBnNa6AKz6"
      },
      "source": [
        "# Step 4. 모델 설계\n",
        "\n",
        "한국어를 영어로 잘 번역해 줄 멋진 Attention 기반 Seq2seq 모델을 설계하세요! 앞서 만든 모델에 Dropout 모듈을 추가하면 성능이 더 좋아집니다! Embedding Size와 Hidden Size는 실험을 통해 적당한 값을 맞춰 주도록 합니다!"
      ]
    },
    {
      "cell_type": "code",
      "execution_count": null,
      "metadata": {
        "id": "FOuHrPehAKz7"
      },
      "outputs": [],
      "source": [
        "class BahdanauAttention(tf.keras.layers.Layer):\n",
        "    def __init__(self, units):\n",
        "        super(BahdanauAttention, self).__init__()\n",
        "        self.w_dec = tf.keras.layers.Dense(units)\n",
        "        self.w_enc = tf.keras.layers.Dense(units)\n",
        "        self.w_com = tf.keras.layers.Dense(1)\n",
        "    \n",
        "    def call(self, h_enc, h_dec):\n",
        "        # h_enc shape: [batch x length x units]\n",
        "        # h_dec shape: [batch x units]\n",
        "\n",
        "        h_enc = self.w_enc(h_enc)\n",
        "        h_dec = tf.expand_dims(h_dec, 1)\n",
        "        h_dec = self.w_dec(h_dec)\n",
        "\n",
        "        score = self.w_com(tf.nn.tanh(h_dec + h_enc))\n",
        "        \n",
        "        attn = tf.nn.softmax(score, axis=1)\n",
        "\n",
        "        context_vec = attn * h_enc\n",
        "        context_vec = tf.reduce_sum(context_vec, axis=1)\n",
        "\n",
        "        return context_vec, attn"
      ]
    },
    {
      "cell_type": "code",
      "execution_count": null,
      "metadata": {
        "id": "EtK_hpWHAKz7"
      },
      "outputs": [],
      "source": [
        "class Encoder(tf.keras.Model):\n",
        "    def __init__(self, vocab_size, embedding_dim, enc_units, dropout):\n",
        "        super(Encoder, self).__init__()\n",
        "        \n",
        "        self.enc_units = enc_units\n",
        "        self.embedding = tf.keras.layers.Embedding(vocab_size, embedding_dim)\n",
        "        self.gru = tf.keras.layers.GRU(enc_units,\n",
        "                                       return_sequences=True)\n",
        "        self.dropout = tf.keras.layers.Dropout(dropout)\n",
        "        \n",
        "    def call(self, x):\n",
        "        out = self.embedding(x)\n",
        "        out = self.gru(out)\n",
        "        \n",
        "        return out"
      ]
    },
    {
      "cell_type": "code",
      "execution_count": null,
      "metadata": {
        "id": "qXxwLW2BAKz7"
      },
      "outputs": [],
      "source": [
        "class Decoder(tf.keras.Model):\n",
        "    def __init__(self, vocab_size, embedding_dim, dec_units, dropout):\n",
        "        super(Decoder, self).__init__()\n",
        "        self.dec_units = dec_units\n",
        "        self.embedding = tf.keras.layers.Embedding(vocab_size, embedding_dim)\n",
        "        self.gru = tf.keras.layers.GRU(dec_units,\n",
        "                                       return_sequences=True,\n",
        "                                       return_state=True)\n",
        "        self.fc = tf.keras.layers.Dense(vocab_size)\n",
        "\n",
        "        self.attention = BahdanauAttention(self.dec_units)\n",
        "        self.dropout = tf.keras.layers.Dropout(dropout)\n",
        "\n",
        "    def call(self, x, h_dec, enc_out):\n",
        "        context_vec, attn = self.attention(enc_out, h_dec)\n",
        "\n",
        "        out = self.embedding(x)\n",
        "        out = tf.concat([tf.expand_dims(context_vec, 1), out], axis=-1)\n",
        "        \n",
        "        out, h_dec = self.gru(out)\n",
        "        out = tf.reshape(out, (-1, out.shape[2]))\n",
        "        out = self.fc(out)\n",
        "\n",
        "        return out, h_dec, attn"
      ]
    },
    {
      "cell_type": "code",
      "execution_count": null,
      "metadata": {
        "id": "aDhUYsWhAKz7",
        "outputId": "cc7d56ac-5256-45b1-a14a-76b5be7eb748"
      },
      "outputs": [
        {
          "name": "stdout",
          "output_type": "stream",
          "text": [
            "Encoder Output: (64, 30, 1024)\n",
            "Decoder Output: (64, 17308)\n",
            "Decoder Hidden State: (64, 1024)\n",
            "Attention: (64, 30, 1)\n"
          ]
        }
      ],
      "source": [
        "# 코드를 실행하세요.\n",
        "\n",
        "BATCH_SIZE     = 64\n",
        "SRC_VOCAB_SIZE = len(enc_tokenizer.index_word) + 1\n",
        "TGT_VOCAB_SIZE = len(dec_tokenizer.index_word) + 1\n",
        "\n",
        "units         = 1024\n",
        "embedding_dim = 512\n",
        "dropout = 0.5\n",
        "\n",
        "encoder = Encoder(SRC_VOCAB_SIZE, embedding_dim, units, dropout)\n",
        "decoder = Decoder(TGT_VOCAB_SIZE, embedding_dim, units, dropout)\n",
        "\n",
        "# sample input\n",
        "sequence_len = 30\n",
        "\n",
        "sample_enc = tf.random.uniform((BATCH_SIZE, sequence_len))\n",
        "sample_output = encoder(sample_enc)\n",
        "\n",
        "print ('Encoder Output:', sample_output.shape)\n",
        "\n",
        "sample_state = tf.random.uniform((BATCH_SIZE, units))\n",
        "\n",
        "sample_logits, h_dec, attn = decoder(tf.random.uniform((BATCH_SIZE, 1)),\n",
        "                                     sample_state, sample_output)\n",
        "\n",
        "print ('Decoder Output:', sample_logits.shape)\n",
        "print ('Decoder Hidden State:', h_dec.shape)\n",
        "print ('Attention:', attn.shape)"
      ]
    },
    {
      "cell_type": "markdown",
      "metadata": {
        "id": "IToUcyGLAKz8"
      },
      "source": [
        "# Step 5. 훈련하기"
      ]
    },
    {
      "cell_type": "markdown",
      "metadata": {
        "id": "75_NJI6kAKz8"
      },
      "source": [
        "## Optimizer & Loss"
      ]
    },
    {
      "cell_type": "code",
      "execution_count": null,
      "metadata": {
        "id": "nv-lwrJQAKz8"
      },
      "outputs": [],
      "source": [
        "optimizer = tf.keras.optimizers.Adam()\n",
        "loss_object = tf.keras.losses.SparseCategoricalCrossentropy(\n",
        "    from_logits=True, reduction='none')\n",
        "\n",
        "def loss_function(real, pred):\n",
        "    mask = tf.math.logical_not(tf.math.equal(real, 0))\n",
        "    loss = loss_object(real, pred)\n",
        "    \n",
        "    mask = tf.cast(mask, dtype=loss.dtype)\n",
        "    loss *= mask\n",
        "    \n",
        "    return tf.reduce_mean(loss)"
      ]
    },
    {
      "cell_type": "markdown",
      "metadata": {
        "id": "AJKT81iuAKz8"
      },
      "source": [
        "## 모델 훈련하기\n",
        "\n",
        "아래에서 train_step 구현 후 훈련 시작"
      ]
    },
    {
      "cell_type": "code",
      "execution_count": null,
      "metadata": {
        "id": "FX1oT37mAKz8"
      },
      "outputs": [],
      "source": [
        "@tf.function\n",
        "def train_step(src, tgt, encoder, decoder, optimizer, dec_tok):\n",
        "    bsz = src.shape[0]\n",
        "    loss = 0\n",
        "\n",
        "    with tf.GradientTape() as tape:\n",
        "        enc_out = encoder(src)\n",
        "        h_dec = enc_out[:, -1]\n",
        "        \n",
        "        dec_src = tf.expand_dims([dec_tok.word_index['<start> ']] * bsz, 1)\n",
        "\n",
        "        for t in range(1, tgt.shape[1]):\n",
        "            pred, h_dec, _ = decoder(dec_src, h_dec, enc_out)\n",
        "\n",
        "            loss += loss_function(tgt[:, t], pred)\n",
        "            dec_src = tf.expand_dims(tgt[:, t], 1)\n",
        "        \n",
        "    batch_loss = (loss / int(tgt.shape[1]))\n",
        "\n",
        "    variables = encoder.trainable_variables + decoder.trainable_variables\n",
        "    gradients = tape.gradient(loss, variables)\n",
        "    optimizer.apply_gradients(zip(gradients, variables))\n",
        "    \n",
        "    return batch_loss"
      ]
    },
    {
      "cell_type": "code",
      "execution_count": null,
      "metadata": {
        "id": "kzroD4nRAKz8",
        "outputId": "fb0706ad-81fb-4a73-fae9-130b5ec5c917"
      },
      "outputs": [
        {
          "name": "stderr",
          "output_type": "stream",
          "text": [
            "Epoch  1: 100%|██████████| 249/249 [03:35<00:00,  1.16it/s, Loss 1.9666]\n",
            "Epoch  2: 100%|██████████| 249/249 [02:11<00:00,  1.89it/s, Loss 1.7039]\n",
            "Epoch  3: 100%|██████████| 249/249 [02:11<00:00,  1.89it/s, Loss 1.5441]\n",
            "Epoch  4: 100%|██████████| 249/249 [02:12<00:00,  1.88it/s, Loss 1.4524]\n",
            "Epoch  5: 100%|██████████| 249/249 [02:12<00:00,  1.88it/s, Loss 1.3779]\n",
            "Epoch  6: 100%|██████████| 249/249 [02:12<00:00,  1.88it/s, Loss 1.3067]\n",
            "Epoch  7: 100%|██████████| 249/249 [02:12<00:00,  1.88it/s, Loss 1.2301]\n",
            "Epoch  8: 100%|██████████| 249/249 [02:12<00:00,  1.87it/s, Loss 1.1516]\n",
            "Epoch  9: 100%|██████████| 249/249 [02:12<00:00,  1.87it/s, Loss 1.0738]\n",
            "Epoch 10: 100%|██████████| 249/249 [02:13<00:00,  1.87it/s, Loss 0.9932]\n"
          ]
        }
      ],
      "source": [
        "from tqdm import tqdm    # tqdm\n",
        "import random\n",
        "\n",
        "EPOCHS = 10\n",
        "\n",
        "for epoch in range(EPOCHS):\n",
        "    total_loss = 0\n",
        "    \n",
        "    idx_list = list(range(0, enc_tensor.shape[0], BATCH_SIZE))\n",
        "    random.shuffle(idx_list)\n",
        "    t = tqdm(idx_list)    # tqdm\n",
        "\n",
        "    for (batch, idx) in enumerate(t):\n",
        "        batch_loss = train_step(enc_tensor[idx:idx+BATCH_SIZE],\n",
        "                                dec_tensor[idx:idx+BATCH_SIZE],\n",
        "                                encoder,\n",
        "                                decoder,\n",
        "                                optimizer,\n",
        "                                dec_tokenizer)\n",
        "    \n",
        "        total_loss += batch_loss\n",
        "        \n",
        "        t.set_description_str('Epoch %2d' % (epoch + 1))    # tqdm\n",
        "        t.set_postfix_str('Loss %.4f' % (total_loss.numpy() / (batch + 1)))    # tqdm"
      ]
    },
    {
      "cell_type": "markdown",
      "metadata": {
        "id": "J2AVD2KsAKz9"
      },
      "source": [
        "## 성능 평가(1)"
      ]
    },
    {
      "cell_type": "code",
      "execution_count": null,
      "metadata": {
        "id": "PWSGLDr6AKz9"
      },
      "outputs": [],
      "source": [
        "# 전처리 함수(2)\n",
        "def preprocess_sentence_2(sentence, ko=False, en=False):\n",
        "  sentence = sentence.lower().strip()\n",
        "\n",
        "  # 단어와 구두점(punctuation) 사이의 거리를 만듭니다.\n",
        "  # 예를 들어서 \"I am a student.\" => \"I am a student .\"와 같이\n",
        "  # student와 온점 사이에 거리를 만듭니다.\n",
        "  sentence = re.sub(r\"([?.!,])\", r\" \\1 \", sentence)\n",
        "  sentence = re.sub(r'[\" \"]+', \" \", sentence)\n",
        "\n",
        "  # (한글, 알파벳, 숫자 \".\", \"?\", \"!\", \",\")를 제외한 모든 문자를 공백으로 대체합니다.\n",
        "  sentence = re.sub(r\"[^가-힣a-zA-Z0-9?.!,]+\", \" \", sentence)\n",
        "  sentence = sentence.strip()\n",
        "\n",
        "  # 토큰화\n",
        "  if ko:\n",
        "    sentence = mecab.morphs(sentence) # 한글\n",
        "        \n",
        "  if en:\n",
        "    sentence = sentence.split()      # 영문\n",
        "\n",
        "  # 문장의 양 끝에 시작 토큰과 종료 토큰 삽입\n",
        "  if en:\n",
        "    sentence = '<start> ' + sentence + ' <end>'\n",
        "\n",
        "  return sentence"
      ]
    },
    {
      "cell_type": "code",
      "execution_count": null,
      "metadata": {
        "id": "-JX79UxKAKz9"
      },
      "outputs": [],
      "source": [
        "def evaluate(sentence, encoder, decoder):\n",
        "    attention = np.zeros((dec_tensor.shape[-1], enc_tensor.shape[-1]))\n",
        "    \n",
        "    sentence = preprocess_sentence_2(sentence, ko=True)\n",
        "    inputs = enc_tokenizer.texts_to_sequences([sentence])\n",
        "    inputs = tf.keras.preprocessing.sequence.pad_sequences(inputs,\n",
        "                                                           maxlen=enc_tensor.shape[-1],\n",
        "                                                           padding='post')\n",
        "\n",
        "    result = ''\n",
        "\n",
        "    enc_out = encoder(inputs)\n",
        "\n",
        "    dec_hidden = enc_out[:, -1]\n",
        "    dec_input = tf.expand_dims([dec_tokenizer.word_index['<start> ']], 0)\n",
        "\n",
        "    for t in range(dec_tensor.shape[-1]):\n",
        "        predictions, dec_hidden, attention_weights = decoder(dec_input,\n",
        "                                                             dec_hidden,\n",
        "                                                             enc_out)\n",
        "\n",
        "        attention_weights = tf.reshape(attention_weights, (-1, ))\n",
        "        attention[t] = attention_weights.numpy()\n",
        "\n",
        "        predicted_id = \\\n",
        "        tf.argmax(tf.math.softmax(predictions, axis=-1)[0]).numpy()\n",
        "\n",
        "        result += dec_tokenizer.index_word[predicted_id] + ' '\n",
        "\n",
        "        if dec_tokenizer.index_word[predicted_id] == ' <end>':\n",
        "            return result, sentence, attention\n",
        "\n",
        "        dec_input = tf.expand_dims([predicted_id], 0)\n",
        "\n",
        "    return result, sentence, attention\n",
        "\n",
        "\n",
        "def plot_attention(attention, sentence, predicted_sentence):\n",
        "    fig = plt.figure(figsize=(10,10))\n",
        "    ax = fig.add_subplot(1, 1, 1)\n",
        "    ax.matshow(attention, cmap='viridis')\n",
        "\n",
        "    fontdict = {'fontsize': 14}\n",
        "\n",
        "    ax.set_xticklabels([''] + sentence, fontdict=fontdict, rotation=90)\n",
        "    ax.set_yticklabels([''] + predicted_sentence, fontdict=fontdict)\n",
        "\n",
        "    ax.xaxis.set_major_locator(ticker.MultipleLocator(1))\n",
        "    ax.yaxis.set_major_locator(ticker.MultipleLocator(1))\n",
        "\n",
        "    plt.show()\n",
        "\n",
        "\n",
        "def translate(sentence, encoder, decoder):\n",
        "    result, sentence, attention = evaluate(sentence, encoder, decoder)\n",
        "\n",
        "    print('Input: %s' % (sentence))\n",
        "    print('Predicted translation: {}'.format(result))\n",
        "    \n",
        "    attention = attention[:len(result.split()), :len(sentence)]\n",
        "    plot_attention(attention, sentence, result.split(' '))"
      ]
    },
    {
      "cell_type": "code",
      "execution_count": null,
      "metadata": {
        "id": "gFotz73qAKz9",
        "outputId": "a6b4e670-7d56-414e-ba8d-7e21f37d238c"
      },
      "outputs": [
        {
          "name": "stdout",
          "output_type": "stream",
          "text": [
            "Input: ['오바마', '는', '대통령', '이', '다', '.']\n",
            "Predicted translation: the obamas are scheduled to be published .  <end> \n"
          ]
        },
        {
          "name": "stderr",
          "output_type": "stream",
          "text": [
            "/tmp/ipykernel_56/3465842361.py:45: UserWarning: FixedFormatter should only be used together with FixedLocator\n",
            "  ax.set_xticklabels([''] + sentence, fontdict=fontdict, rotation=90)\n",
            "/tmp/ipykernel_56/3465842361.py:46: UserWarning: FixedFormatter should only be used together with FixedLocator\n",
            "  ax.set_yticklabels([''] + predicted_sentence, fontdict=fontdict)\n"
          ]
        },
        {
          "data": {
            "image/png": "[encoded data removed]",
            "text/plain": [
              "<Figure size 720x720 with 1 Axes>"
            ]
          },
          "metadata": {
            "image/png": {
              "height": 606,
              "width": 449
            },
            "needs_background": "light"
          },
          "output_type": "display_data"
        }
      ],
      "source": [
        "translate(\"오바마는 대통령이다.\", encoder, decoder)"
      ]
    },
    {
      "cell_type": "code",
      "execution_count": null,
      "metadata": {
        "id": "T4m5MToVAKz-",
        "outputId": "22aacfb1-5142-461d-a78f-bfc1c22fa2d3"
      },
      "outputs": [
        {
          "name": "stdout",
          "output_type": "stream",
          "text": [
            "Input: ['시민', '들', '은', '도시', '속', '에', '산다', '.']\n",
            "Predicted translation: the children are  up in the  .  <end> \n"
          ]
        },
        {
          "name": "stderr",
          "output_type": "stream",
          "text": [
            "/tmp/ipykernel_56/3465842361.py:45: UserWarning: FixedFormatter should only be used together with FixedLocator\n",
            "  ax.set_xticklabels([''] + sentence, fontdict=fontdict, rotation=90)\n",
            "/tmp/ipykernel_56/3465842361.py:46: UserWarning: FixedFormatter should only be used together with FixedLocator\n",
            "  ax.set_yticklabels([''] + predicted_sentence, fontdict=fontdict)\n"
          ]
        },
        {
          "data": {
            "image/png": "[encoded data removed]",
            "text/plain": [
              "<Figure size 720x720 with 1 Axes>"
            ]
          },
          "metadata": {
            "image/png": {
              "height": 593,
              "width": 616
            },
            "needs_background": "light"
          },
          "output_type": "display_data"
        }
      ],
      "source": [
        "translate(\"시민들은 도시 속에 산다.\", encoder, decoder)"
      ]
    },
    {
      "cell_type": "code",
      "execution_count": null,
      "metadata": {
        "id": "5u0GKIMPAKz-",
        "outputId": "5fb8b573-9812-41cb-9f5a-39f389436688"
      },
      "outputs": [
        {
          "name": "stdout",
          "output_type": "stream",
          "text": [
            "Input: ['커피', '는', '필요', '없', '다', '.']\n",
            "Predicted translation: the pool  <end> \n"
          ]
        },
        {
          "name": "stderr",
          "output_type": "stream",
          "text": [
            "/tmp/ipykernel_56/3465842361.py:45: UserWarning: FixedFormatter should only be used together with FixedLocator\n",
            "  ax.set_xticklabels([''] + sentence, fontdict=fontdict, rotation=90)\n",
            "/tmp/ipykernel_56/3465842361.py:46: UserWarning: FixedFormatter should only be used together with FixedLocator\n",
            "  ax.set_yticklabels([''] + predicted_sentence, fontdict=fontdict)\n"
          ]
        },
        {
          "data": {
            "image/png": "[encoded data removed]",
            "text/plain": [
              "<Figure size 720x720 with 1 Axes>"
            ]
          },
          "metadata": {
            "image/png": {
              "height": 328,
              "width": 607
            },
            "needs_background": "light"
          },
          "output_type": "display_data"
        }
      ],
      "source": [
        "translate(\"커피는 필요 없다.\", encoder, decoder)"
      ]
    },
    {
      "cell_type": "code",
      "execution_count": null,
      "metadata": {
        "id": "5-Cgqu7EAKz-",
        "outputId": "9ca091bc-241e-4482-b4d0-c5f4a9c2400b"
      },
      "outputs": [
        {
          "name": "stdout",
          "output_type": "stream",
          "text": [
            "Input: ['일곱', '명', '의', '사망자', '가', '발생', '했', '다', '.']\n",
            "Predicted translation: the identities of the dead bodies were wounded .  <end> \n"
          ]
        },
        {
          "name": "stderr",
          "output_type": "stream",
          "text": [
            "/tmp/ipykernel_56/3465842361.py:45: UserWarning: FixedFormatter should only be used together with FixedLocator\n",
            "  ax.set_xticklabels([''] + sentence, fontdict=fontdict, rotation=90)\n",
            "/tmp/ipykernel_56/3465842361.py:46: UserWarning: FixedFormatter should only be used together with FixedLocator\n",
            "  ax.set_yticklabels([''] + predicted_sentence, fontdict=fontdict)\n"
          ]
        },
        {
          "data": {
            "image/png": "[encoded data removed]",
            "text/plain": [
              "<Figure size 720x720 with 1 Axes>"
            ]
          },
          "metadata": {
            "image/png": {
              "height": 606,
              "width": 570
            },
            "needs_background": "light"
          },
          "output_type": "display_data"
        }
      ],
      "source": [
        "translate(\"일곱 명의 사망자가 발생했다.\", encoder, decoder)"
      ]
    },
    {
      "cell_type": "markdown",
      "metadata": {
        "id": "L_kTnAL_AKz-"
      },
      "source": [
        "# 회고\n",
        "\n",
        "이번 노드에서는 Sequence to Sequence 방식과 어텐션을 이용해 번역기를 만들었다.\n",
        "\n",
        "기존의 LSTM 레이어를 통한 RNN 방식은 몇 가지 문제가 있었다. 바로 데이터를 병렬적으로 받아들일 수 없어서 학습이 오래 걸린다는 것과 고정된 크기의 컨텍스트 벡터를 사용하기 때문에 너무 긴 문장에서는 성능이 떨어진다는 것이었다.\n",
        "\n",
        "따라서 이 문제를 해결하기 위해 어텐션을 활용했고 그 덕에 번역의 과정 또한 확인할 수 있게 되었다. 마지막 번역 결과에서 초록색으로 칠해진 칸이 관련도가 높다는 뜻이고 어두운 색은 관련이 없다는 뜻이다.\n",
        "\n",
        "결과를 보면 전반적으로 나쁘지 않게 번역되었으나 당연히 제대로 된 번역은 아니었다. 하지만 사용 데이터가 2만개도 되지 않았다는 점을 감안하면 어텐션의 힘을 확인할 수 있었다고 생각한다. 단어장의 크기는 1만개로 사용했는데 아래 레퍼런스에 따르면 데이터의 크기가 작을 때는 단어장의 크기 또한 작아져야 성능이 좋다고 한다. 하지만 이번 노드에서는 최소 1만개를 설정해두고 있으므로 그 값을 썼다. 임베딩 레이어와 히든 레이어의 크기 등 또한 바꿔보고 싶었으나 학습이 제대로 되지 않는 경우가 자주 생겨 많은 시도를 비교해볼 수 없었다.\n",
        "\n",
        "그 외에도 데이터의 크기를 제한한 점이 아쉬웠다. 전체 데이터의 크기는 9만개 이상이었으므로 훨씬 더 많은 데이터를 사용할 수 있었다고 생각한다. 하지만 2만개도 채 되지 않는 데이터의 크기로도 한 번 학습을 하는데 시간이 적지 않게 소모되었으므로 여기서 전체 데이터를 전부 사용했다면 너무 학습이 오래 걸리게 되었을 것이다."
      ]
    },
    {
      "cell_type": "markdown",
      "metadata": {
        "id": "1I82NSV0AKz-"
      },
      "source": [
        "# Reference\n",
        "\n",
        "https://stellarway.tistory.com/45 적절한 vocab size 에 대하여  \n",
        "https://ai.stackexchange.com/questions/28564/how-to-determine-the-embedding-size embedding size 결정하는 법\n",
        " "
      ]
    }
  ],
  "metadata": {
    "accelerator": "GPU",
    "colab": {
      "provenance": [],
      "toc_visible": true
    },
    "gpuClass": "standard",
    "kernelspec": {
      "display_name": "Python 3 (ipykernel)",
      "language": "python",
      "name": "python3"
    },
    "language_info": {
      "codemirror_mode": {
        "name": "ipython",
        "version": 3
      },
      "file_extension": ".py",
      "mimetype": "text/x-python",
      "name": "python",
      "nbconvert_exporter": "python",
      "pygments_lexer": "ipython3",
      "version": "3.9.7"
    }
  },
  "nbformat": 4,
  "nbformat_minor": 0
}